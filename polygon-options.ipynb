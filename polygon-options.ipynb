{
 "cells": [
  {
   "cell_type": "markdown",
   "id": "f9ff4f78",
   "metadata": {},
   "source": [
    "# Polygon Options Overview"
   ]
  },
  {
   "cell_type": "code",
   "execution_count": 3,
   "id": "46df1fd1",
   "metadata": {},
   "outputs": [],
   "source": [
    "import pandas as pd\n",
    "from polygon import RESTClient"
   ]
  },
  {
   "cell_type": "code",
   "execution_count": 5,
   "id": "1620b381",
   "metadata": {},
   "outputs": [],
   "source": [
    "api_key = open(\"api_key.txt\").read()\n",
    "client = RESTClient(api_key)"
   ]
  },
  {
   "cell_type": "code",
   "execution_count": 9,
   "id": "c0324840",
   "metadata": {},
   "outputs": [
    {
     "data": {
      "text/plain": [
       "[Agg(open=9.53, high=9.55, low=8.78, close=8.78, volume=10, vwap=9.132, timestamp=1725336000000, transactions=10, otc=None),\n",
       " Agg(open=8.88, high=8.88, low=8.68, close=8.68, volume=52, vwap=8.8492, timestamp=1725422400000, transactions=10, otc=None),\n",
       " Agg(open=8.17, high=8.17, low=8.17, close=8.17, volume=6, vwap=8.17, timestamp=1725508800000, transactions=2, otc=None),\n",
       " Agg(open=7.32, high=7.32, low=6.62, close=6.62, volume=8, vwap=6.895, timestamp=1725595200000, transactions=8, otc=None),\n",
       " Agg(open=7.06, high=7.41, low=7.06, close=7.41, volume=10, vwap=7.34, timestamp=1725854400000, transactions=4, otc=None)]"
      ]
     },
     "execution_count": 9,
     "metadata": {},
     "output_type": "execute_result"
    }
   ],
   "source": [
    "# only shows pricing for options with activity\n",
    "client.get_aggs(\"O:SPY251219C00650000\", timespan=\"day\", multiplier=1, from_=\"2024-09-01\", to=\"2024-09-10\")   "
   ]
  },
  {
   "cell_type": "code",
   "execution_count": 11,
   "id": "6b99445a",
   "metadata": {},
   "outputs": [],
   "source": [
    "goog = client.get_aggs(ticker=\"GOOG\", multiplier=1, timespan=\"day\", \n",
    "                         from_=\"2024-06-17\", to=\"2024-06-17\", limit=50000)"
   ]
  },
  {
   "cell_type": "code",
   "execution_count": 12,
   "id": "97e60ef1",
   "metadata": {},
   "outputs": [
    {
     "data": {
      "text/plain": [
       "178.78"
      ]
     },
     "execution_count": 12,
     "metadata": {},
     "output_type": "execute_result"
    }
   ],
   "source": [
    "goog[0].close"
   ]
  },
  {
   "cell_type": "code",
   "execution_count": 15,
   "id": "be0bcf06",
   "metadata": {},
   "outputs": [],
   "source": [
    "def nearest_five(price, base=5):\n",
    "    return base * round(price/base)"
   ]
  },
  {
   "cell_type": "code",
   "execution_count": 17,
   "id": "79f5e608",
   "metadata": {},
   "outputs": [
    {
     "data": {
      "text/plain": [
       "180"
      ]
     },
     "execution_count": 17,
     "metadata": {},
     "output_type": "execute_result"
    }
   ],
   "source": [
    "nearest_five(goog[0].close)"
   ]
  },
  {
   "cell_type": "code",
   "execution_count": 19,
   "id": "c1b438a2",
   "metadata": {},
   "outputs": [],
   "source": [
    "start = nearest_five(goog[0].close) - 10\n",
    "strikes = [start + x * 2.5 for x in range(9)]"
   ]
  },
  {
   "cell_type": "code",
   "execution_count": 21,
   "id": "ddbcb258",
   "metadata": {},
   "outputs": [],
   "source": [
    "strikes = [strike * 1000 for strike in strikes]"
   ]
  },
  {
   "cell_type": "code",
   "execution_count": null,
   "id": "89143a3f",
   "metadata": {},
   "outputs": [],
   "source": []
  },
  {
   "cell_type": "code",
   "execution_count": 23,
   "id": "58977a81",
   "metadata": {},
   "outputs": [],
   "source": [
    "symbols = [f\"O:GOOG240621C00{strike:.0f}\" for strike in strikes]"
   ]
  },
  {
   "cell_type": "code",
   "execution_count": 25,
   "id": "1dfd5a7e",
   "metadata": {},
   "outputs": [
    {
     "data": {
      "text/plain": [
       "['O:GOOG240621C00170000',\n",
       " 'O:GOOG240621C00172500',\n",
       " 'O:GOOG240621C00175000',\n",
       " 'O:GOOG240621C00177500',\n",
       " 'O:GOOG240621C00180000',\n",
       " 'O:GOOG240621C00182500',\n",
       " 'O:GOOG240621C00185000',\n",
       " 'O:GOOG240621C00187500',\n",
       " 'O:GOOG240621C00190000']"
      ]
     },
     "execution_count": 25,
     "metadata": {},
     "output_type": "execute_result"
    }
   ],
   "source": [
    "symbols"
   ]
  },
  {
   "cell_type": "code",
   "execution_count": 27,
   "id": "0daf031b",
   "metadata": {},
   "outputs": [
    {
     "name": "stdout",
     "output_type": "stream",
     "text": [
      "17000 [Agg(open=7.45, high=10, low=7, close=9.15, volume=890, vwap=8.3886, timestamp=1718596800000, transactions=182, otc=None)]\n",
      "17250 [Agg(open=4.82, high=7.23, low=4.8, close=6.8, volume=730, vwap=6.1895, timestamp=1718596800000, transactions=76, otc=None)]\n",
      "17500 [Agg(open=3.15, high=5.25, low=2.8, close=4.28, volume=3566, vwap=3.7625, timestamp=1718596800000, transactions=680, otc=None)]\n",
      "17750 [Agg(open=1.57, high=3.17, low=1.4, close=2.35, volume=12398, vwap=1.8186, timestamp=1718596800000, transactions=2038, otc=None)]\n"
     ]
    }
   ],
   "source": [
    "for symbol in symbols[:4]:\n",
    "    print(f\"{symbol[-6:-1]}\",client.get_aggs(ticker=symbol,  timespan=\"day\", multiplier=1, from_=\"2024-06-17\", to=\"2024-06-17\"))"
   ]
  },
  {
   "cell_type": "code",
   "execution_count": null,
   "id": "300f0baf",
   "metadata": {},
   "outputs": [],
   "source": []
  },
  {
   "cell_type": "code",
   "execution_count": 41,
   "id": "a68f8f66",
   "metadata": {},
   "outputs": [
    {
     "data": {
      "text/plain": [
       "[Agg(open=61.56, high=61.56, low=61.56, close=61.56, volume=2, vwap=61.56, timestamp=1725336000000, transactions=2, otc=None),\n",
       " Agg(open=58.14, high=58.14, low=57.44, close=57.44, volume=4, vwap=57.79, timestamp=1725422400000, transactions=4, otc=None),\n",
       " Agg(open=50.97, high=50.97, low=50.04, close=50.04, volume=6, vwap=50.66, timestamp=1725595200000, transactions=4, otc=None),\n",
       " Agg(open=53, high=54.32, low=52.97, close=53.95, volume=114, vwap=53.1654, timestamp=1725854400000, transactions=18, otc=None)]"
      ]
     },
     "execution_count": 41,
     "metadata": {},
     "output_type": "execute_result"
    }
   ],
   "source": [
    "client.get_aggs(\"O:SPY251219C00545000\", timespan=\"day\", multiplier=1, from_=\"2024-09-01\", to=\"2024-09-10\")   "
   ]
  },
  {
   "cell_type": "code",
   "execution_count": null,
   "id": "9dadcd72",
   "metadata": {},
   "outputs": [],
   "source": []
  },
  {
   "cell_type": "code",
   "execution_count": null,
   "id": "b5375ef5",
   "metadata": {},
   "outputs": [],
   "source": []
  }
 ],
 "metadata": {
  "kernelspec": {
   "display_name": "Python 3 (ipykernel)",
   "language": "python",
   "name": "python3"
  },
  "language_info": {
   "codemirror_mode": {
    "name": "ipython",
    "version": 3
   },
   "file_extension": ".py",
   "mimetype": "text/x-python",
   "name": "python",
   "nbconvert_exporter": "python",
   "pygments_lexer": "ipython3",
   "version": "3.12.4"
  }
 },
 "nbformat": 4,
 "nbformat_minor": 5
}
